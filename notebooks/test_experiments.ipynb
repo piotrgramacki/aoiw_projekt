{
 "cells": [
  {
   "cell_type": "code",
   "execution_count": 4,
   "metadata": {},
   "outputs": [],
   "source": [
    "%load_ext autoreload\r\n",
    "%autoreload 2"
   ]
  },
  {
   "cell_type": "code",
   "execution_count": 16,
   "metadata": {},
   "outputs": [],
   "source": [
    "from src.settings import UC_MERCED_DATA_DIRECTORY, RESULTS_DIRECTORY\r\n",
    "from src.data.ucmerced_dataset import TripletDataModule\r\n",
    "from src.experiments import create_path_if_not_exists, run_bovw_experiments\r\n",
    "import os\r\n",
    "\r\n",
    "image_size = 256\r\n",
    "dm = TripletDataModule(UC_MERCED_DATA_DIRECTORY, image_size, 0.8, 100, augment=False, normalize=False, permute=True)\r\n",
    "dm.setup(None)\r\n",
    "train_dataset = dm.train_dataset\r\n",
    "test_dataset = dm.val_dataset\r\n",
    "\r\n",
    "output_sizes = [25, 50, 100, 150]\r\n",
    "samples = [10000]\r\n",
    "bovw_path = os.path.join(RESULTS_DIRECTORY, \"bovw\")\r\n",
    "create_path_if_not_exists(bovw_path)\r\n",
    "dataset_path = os.path.join(bovw_path, \"uc_merced\")\r\n",
    "create_path_if_not_exists(dataset_path)"
   ]
  },
  {
   "cell_type": "code",
   "execution_count": 17,
   "metadata": {},
   "outputs": [
    {
     "name": "stderr",
     "output_type": "stream",
     "text": [
      "100%|██████████| 1680/1680 [00:32<00:00, 51.29it/s]\n",
      "100%|██████████| 420/420 [00:08<00:00, 52.36it/s]\n",
      "100%|██████████| 420/420 [00:00<00:00, 548.30it/s]\n",
      "Encoding as BOVW: 100%|██████████| 420/420 [00:00<00:00, 1414.14it/s]\n",
      "Encoding as BOVW: 100%|██████████| 420/420 [00:00<00:00, 1324.92it/s]\n",
      "Encoding as BOVW: 100%|██████████| 420/420 [00:00<00:00, 1333.33it/s]\n",
      "Encoding as BOVW: 100%|██████████| 420/420 [00:00<00:00, 1224.49it/s]\n"
     ]
    },
    {
     "name": "stdout",
     "output_type": "stream",
     "text": [
      "Clusters: 25, samples: 10000\n",
      "Clusters: 50, samples: 10000\n",
      "Clusters: 100, samples: 10000\n",
      "Clusters: 150, samples: 10000\n"
     ]
    }
   ],
   "source": [
    "values, values_per_class, cluster_numbers, sample_numbers = run_bovw_experiments(train_dataset, test_dataset, output_sizes, samples, \"UC Merced\", dataset_path)"
   ]
  },
  {
   "cell_type": "code",
   "execution_count": 27,
   "metadata": {},
   "outputs": [
    {
     "data": {
      "text/plain": "array([[0.39525316, 0.69341772, 0.79424051, 0.7743038 , 0.6143038 ,\n        0.20575949, 0.65101266, 0.39234177, 0.68278481, 0.86044304,\n        0.68689873, 0.6285443 , 0.68126582, 0.62917722, 0.72272152,\n        0.53911392, 0.67443038, 0.63886076, 0.75234177, 0.76468354,\n        0.74303797],\n       [0.44829114, 0.69113924, 0.79974684, 0.77765823, 0.63037975,\n        0.20411392, 0.64120253, 0.39879747, 0.69373418, 0.85031646,\n        0.70613924, 0.59607595, 0.63158228, 0.5764557 , 0.71101266,\n        0.5085443 , 0.67886076, 0.63310127, 0.74101266, 0.79303797,\n        0.76      ],\n       [0.48056962, 0.75139241, 0.80873418, 0.81797468, 0.56727848,\n        0.19917722, 0.67841772, 0.33303797, 0.71259494, 0.8471519 ,\n        0.69797468, 0.62012658, 0.60620253, 0.53259494, 0.72816456,\n        0.47658228, 0.69025316, 0.64398734, 0.72487342, 0.81512658,\n        0.75702532],\n       [0.55759494, 0.73025316, 0.84113924, 0.83886076, 0.62405063,\n        0.18411392, 0.67208861, 0.31208861, 0.72063291, 0.85455696,\n        0.68632911, 0.60765823, 0.57626582, 0.51544304, 0.72183544,\n        0.48316456, 0.69208861, 0.64462025, 0.74189873, 0.83120253,\n        0.7606962 ]])"
     },
     "execution_count": 27,
     "metadata": {},
     "output_type": "execute_result"
    }
   ],
   "source": [
    "import numpy as np\r\n",
    "values_per_class = [list(list(zip(*single_experiment))[1]) for single_experiment in values_per_class]\r\n",
    "np.array(values_per_class2)"
   ]
  },
  {
   "cell_type": "code",
   "execution_count": 38,
   "metadata": {},
   "outputs": [],
   "source": [
    "import pandas as pd\r\n",
    "class_names = dm.val_dataset.class_names\r\n",
    "df = pd.DataFrame.from_dict({\"clusters\": cluster_numbers, \"samples\": sample_numbers, \"anmrr\": values})\r\n",
    "values_per_class_without_labels = [list(list(zip(*single_experiment))[1]) for single_experiment in values_per_class]\r\n",
    "full_df = pd.concat([df, pd.DataFrame(np.array(values_per_class_without_labels), columns=class_names)], axis=1)\r\n",
    "results_long_form = full_df.melt(id_vars=['clusters', 'samples', 'anmrr'], var_name='class', value_name='anmrr_per_class')\r\n",
    "results_long_form['experiment_name'] = results_long_form.apply(lambda row: str(row['clusters']) + \"_\" + str(row['samples']), axis=1)"
   ]
  },
  {
   "cell_type": "code",
   "execution_count": 39,
   "metadata": {},
   "outputs": [
    {
     "data": {
      "text/html": "<div>\n<style scoped>\n    .dataframe tbody tr th:only-of-type {\n        vertical-align: middle;\n    }\n\n    .dataframe tbody tr th {\n        vertical-align: top;\n    }\n\n    .dataframe thead th {\n        text-align: right;\n    }\n</style>\n<table border=\"1\" class=\"dataframe\">\n  <thead>\n    <tr style=\"text-align: right;\">\n      <th></th>\n      <th>clusters</th>\n      <th>samples</th>\n      <th>anmrr</th>\n    </tr>\n  </thead>\n  <tbody>\n    <tr>\n      <th>0</th>\n      <td>25</td>\n      <td>10000</td>\n      <td>0.644045</td>\n    </tr>\n    <tr>\n      <th>1</th>\n      <td>50</td>\n      <td>10000</td>\n      <td>0.641486</td>\n    </tr>\n    <tr>\n      <th>2</th>\n      <td>100</td>\n      <td>10000</td>\n      <td>0.642345</td>\n    </tr>\n    <tr>\n      <th>3</th>\n      <td>150</td>\n      <td>10000</td>\n      <td>0.647456</td>\n    </tr>\n  </tbody>\n</table>\n</div>",
      "text/plain": "   clusters  samples     anmrr\n0        25    10000  0.644045\n1        50    10000  0.641486\n2       100    10000  0.642345\n3       150    10000  0.647456"
     },
     "execution_count": 39,
     "metadata": {},
     "output_type": "execute_result"
    }
   ],
   "source": [
    "df"
   ]
  },
  {
   "cell_type": "code",
   "execution_count": 34,
   "metadata": {},
   "outputs": [
    {
     "data": {
      "text/plain": "(4, 21)"
     },
     "execution_count": 34,
     "metadata": {},
     "output_type": "execute_result"
    }
   ],
   "source": [
    "np.array(values_per_class2).shape"
   ]
  },
  {
   "cell_type": "code",
   "execution_count": 44,
   "metadata": {},
   "outputs": [],
   "source": [
    "xd = pd.concat([df, pd.DataFrame(np.array(values_per_class2), columns=class_names)], axis=1)"
   ]
  },
  {
   "cell_type": "code",
   "execution_count": 58,
   "metadata": {},
   "outputs": [
    {
     "data": {
      "text/html": "<div>\n<style scoped>\n    .dataframe tbody tr th:only-of-type {\n        vertical-align: middle;\n    }\n\n    .dataframe tbody tr th {\n        vertical-align: top;\n    }\n\n    .dataframe thead th {\n        text-align: right;\n    }\n</style>\n<table border=\"1\" class=\"dataframe\">\n  <thead>\n    <tr style=\"text-align: right;\">\n      <th></th>\n      <th>clusters</th>\n      <th>samples</th>\n      <th>anmrr</th>\n      <th>class</th>\n      <th>anmrr_per_class</th>\n      <th>experiment_name</th>\n    </tr>\n  </thead>\n  <tbody>\n    <tr>\n      <th>0</th>\n      <td>25</td>\n      <td>10000</td>\n      <td>0.644045</td>\n      <td>agricultural</td>\n      <td>0.395253</td>\n      <td>25_10000</td>\n    </tr>\n    <tr>\n      <th>1</th>\n      <td>50</td>\n      <td>10000</td>\n      <td>0.641486</td>\n      <td>agricultural</td>\n      <td>0.448291</td>\n      <td>50_10000</td>\n    </tr>\n    <tr>\n      <th>2</th>\n      <td>100</td>\n      <td>10000</td>\n      <td>0.642345</td>\n      <td>agricultural</td>\n      <td>0.480570</td>\n      <td>100_10000</td>\n    </tr>\n    <tr>\n      <th>3</th>\n      <td>150</td>\n      <td>10000</td>\n      <td>0.647456</td>\n      <td>agricultural</td>\n      <td>0.557595</td>\n      <td>150_10000</td>\n    </tr>\n    <tr>\n      <th>4</th>\n      <td>25</td>\n      <td>10000</td>\n      <td>0.644045</td>\n      <td>airplane</td>\n      <td>0.693418</td>\n      <td>25_10000</td>\n    </tr>\n    <tr>\n      <th>...</th>\n      <td>...</td>\n      <td>...</td>\n      <td>...</td>\n      <td>...</td>\n      <td>...</td>\n      <td>...</td>\n    </tr>\n    <tr>\n      <th>79</th>\n      <td>150</td>\n      <td>10000</td>\n      <td>0.647456</td>\n      <td>storagetanks</td>\n      <td>0.831203</td>\n      <td>150_10000</td>\n    </tr>\n    <tr>\n      <th>80</th>\n      <td>25</td>\n      <td>10000</td>\n      <td>0.644045</td>\n      <td>tenniscourt</td>\n      <td>0.743038</td>\n      <td>25_10000</td>\n    </tr>\n    <tr>\n      <th>81</th>\n      <td>50</td>\n      <td>10000</td>\n      <td>0.641486</td>\n      <td>tenniscourt</td>\n      <td>0.760000</td>\n      <td>50_10000</td>\n    </tr>\n    <tr>\n      <th>82</th>\n      <td>100</td>\n      <td>10000</td>\n      <td>0.642345</td>\n      <td>tenniscourt</td>\n      <td>0.757025</td>\n      <td>100_10000</td>\n    </tr>\n    <tr>\n      <th>83</th>\n      <td>150</td>\n      <td>10000</td>\n      <td>0.647456</td>\n      <td>tenniscourt</td>\n      <td>0.760696</td>\n      <td>150_10000</td>\n    </tr>\n  </tbody>\n</table>\n<p>84 rows × 6 columns</p>\n</div>",
      "text/plain": "    clusters  samples     anmrr         class  anmrr_per_class experiment_name\n0         25    10000  0.644045  agricultural         0.395253        25_10000\n1         50    10000  0.641486  agricultural         0.448291        50_10000\n2        100    10000  0.642345  agricultural         0.480570       100_10000\n3        150    10000  0.647456  agricultural         0.557595       150_10000\n4         25    10000  0.644045      airplane         0.693418        25_10000\n..       ...      ...       ...           ...              ...             ...\n79       150    10000  0.647456  storagetanks         0.831203       150_10000\n80        25    10000  0.644045   tenniscourt         0.743038        25_10000\n81        50    10000  0.641486   tenniscourt         0.760000        50_10000\n82       100    10000  0.642345   tenniscourt         0.757025       100_10000\n83       150    10000  0.647456   tenniscourt         0.760696       150_10000\n\n[84 rows x 6 columns]"
     },
     "execution_count": 58,
     "metadata": {},
     "output_type": "execute_result"
    }
   ],
   "source": [
    "import plotly.express as px\r\n",
    "\r\n",
    "ble = xd.melt(id_vars=['clusters', 'samples', 'anmrr'], var_name='class', value_name='anmrr_per_class')\r\n",
    "ble['experiment_name'] = ble.apply(lambda row: str(row['clusters']) + \"_\" + str(row['samples']), axis=1)"
   ]
  },
  {
   "cell_type": "code",
   "execution_count": 54,
   "metadata": {},
   "outputs": [
    {
     "data": {
      "text/html": "<div>\n<style scoped>\n    .dataframe tbody tr th:only-of-type {\n        vertical-align: middle;\n    }\n\n    .dataframe tbody tr th {\n        vertical-align: top;\n    }\n\n    .dataframe thead th {\n        text-align: right;\n    }\n</style>\n<table border=\"1\" class=\"dataframe\">\n  <thead>\n    <tr style=\"text-align: right;\">\n      <th></th>\n      <th>clusters</th>\n      <th>samples</th>\n      <th>anmrr</th>\n      <th>class</th>\n      <th>anmrr_per_class</th>\n      <th>experiment_name</th>\n    </tr>\n  </thead>\n  <tbody>\n    <tr>\n      <th>0</th>\n      <td>25</td>\n      <td>10000</td>\n      <td>0.644045</td>\n      <td>agricultural</td>\n      <td>0.395253</td>\n      <td>2510000</td>\n    </tr>\n    <tr>\n      <th>1</th>\n      <td>50</td>\n      <td>10000</td>\n      <td>0.641486</td>\n      <td>agricultural</td>\n      <td>0.448291</td>\n      <td>5010000</td>\n    </tr>\n    <tr>\n      <th>2</th>\n      <td>100</td>\n      <td>10000</td>\n      <td>0.642345</td>\n      <td>agricultural</td>\n      <td>0.480570</td>\n      <td>10010000</td>\n    </tr>\n    <tr>\n      <th>3</th>\n      <td>150</td>\n      <td>10000</td>\n      <td>0.647456</td>\n      <td>agricultural</td>\n      <td>0.557595</td>\n      <td>15010000</td>\n    </tr>\n    <tr>\n      <th>4</th>\n      <td>25</td>\n      <td>10000</td>\n      <td>0.644045</td>\n      <td>airplane</td>\n      <td>0.693418</td>\n      <td>NaN</td>\n    </tr>\n    <tr>\n      <th>...</th>\n      <td>...</td>\n      <td>...</td>\n      <td>...</td>\n      <td>...</td>\n      <td>...</td>\n      <td>...</td>\n    </tr>\n    <tr>\n      <th>79</th>\n      <td>150</td>\n      <td>10000</td>\n      <td>0.647456</td>\n      <td>storagetanks</td>\n      <td>0.831203</td>\n      <td>NaN</td>\n    </tr>\n    <tr>\n      <th>80</th>\n      <td>25</td>\n      <td>10000</td>\n      <td>0.644045</td>\n      <td>tenniscourt</td>\n      <td>0.743038</td>\n      <td>NaN</td>\n    </tr>\n    <tr>\n      <th>81</th>\n      <td>50</td>\n      <td>10000</td>\n      <td>0.641486</td>\n      <td>tenniscourt</td>\n      <td>0.760000</td>\n      <td>NaN</td>\n    </tr>\n    <tr>\n      <th>82</th>\n      <td>100</td>\n      <td>10000</td>\n      <td>0.642345</td>\n      <td>tenniscourt</td>\n      <td>0.757025</td>\n      <td>NaN</td>\n    </tr>\n    <tr>\n      <th>83</th>\n      <td>150</td>\n      <td>10000</td>\n      <td>0.647456</td>\n      <td>tenniscourt</td>\n      <td>0.760696</td>\n      <td>NaN</td>\n    </tr>\n  </tbody>\n</table>\n<p>84 rows × 6 columns</p>\n</div>",
      "text/plain": "    clusters  samples     anmrr         class  anmrr_per_class experiment_name\n0         25    10000  0.644045  agricultural         0.395253         2510000\n1         50    10000  0.641486  agricultural         0.448291         5010000\n2        100    10000  0.642345  agricultural         0.480570        10010000\n3        150    10000  0.647456  agricultural         0.557595        15010000\n4         25    10000  0.644045      airplane         0.693418             NaN\n..       ...      ...       ...           ...              ...             ...\n79       150    10000  0.647456  storagetanks         0.831203             NaN\n80        25    10000  0.644045   tenniscourt         0.743038             NaN\n81        50    10000  0.641486   tenniscourt         0.760000             NaN\n82       100    10000  0.642345   tenniscourt         0.757025             NaN\n83       150    10000  0.647456   tenniscourt         0.760696             NaN\n\n[84 rows x 6 columns]"
     },
     "execution_count": 54,
     "metadata": {},
     "output_type": "execute_result"
    }
   ],
   "source": [
    "ble"
   ]
  },
  {
   "cell_type": "code",
   "execution_count": 63,
   "metadata": {},
   "outputs": [
    {
     "ename": "ValueError",
     "evalue": "All arguments should have the same length. The length of argument `color` is 2, whereas the length of  previously-processed arguments ['class', 'anmrr_per_class'] is 84",
     "output_type": "error",
     "traceback": [
      "\u001b[1;31m---------------------------------------------------------------------------\u001b[0m",
      "\u001b[1;31mValueError\u001b[0m                                Traceback (most recent call last)",
      "\u001b[1;32m<ipython-input-63-2f839e9f8fa0>\u001b[0m in \u001b[0;36m<module>\u001b[1;34m\u001b[0m\n\u001b[1;32m----> 1\u001b[1;33m \u001b[0mfig\u001b[0m \u001b[1;33m=\u001b[0m \u001b[0mpx\u001b[0m\u001b[1;33m.\u001b[0m\u001b[0mline\u001b[0m\u001b[1;33m(\u001b[0m\u001b[0mble\u001b[0m\u001b[1;33m,\u001b[0m \u001b[0mx\u001b[0m\u001b[1;33m=\u001b[0m\u001b[1;34m'class'\u001b[0m\u001b[1;33m,\u001b[0m \u001b[0my\u001b[0m\u001b[1;33m=\u001b[0m\u001b[1;34m'anmrr_per_class'\u001b[0m\u001b[1;33m,\u001b[0m \u001b[0mcolor\u001b[0m\u001b[1;33m=\u001b[0m\u001b[1;33m[\u001b[0m\u001b[1;34m'clusters'\u001b[0m\u001b[1;33m,\u001b[0m \u001b[1;34m'samples'\u001b[0m\u001b[1;33m]\u001b[0m\u001b[1;33m)\u001b[0m\u001b[1;33m\u001b[0m\u001b[1;33m\u001b[0m\u001b[0m\n\u001b[0m\u001b[0;32m      2\u001b[0m \u001b[0mfig\u001b[0m\u001b[1;33m.\u001b[0m\u001b[0mshow\u001b[0m\u001b[1;33m(\u001b[0m\u001b[0mrenderer\u001b[0m\u001b[1;33m=\u001b[0m\u001b[1;34m'browser'\u001b[0m\u001b[1;33m)\u001b[0m\u001b[1;33m\u001b[0m\u001b[1;33m\u001b[0m\u001b[0m\n",
      "\u001b[1;32mc:\\Users\\Szymon\\projects\\aoiw\\project\\env\\lib\\site-packages\\plotly\\express\\_chart_types.py\u001b[0m in \u001b[0;36mline\u001b[1;34m(data_frame, x, y, line_group, color, line_dash, hover_name, hover_data, custom_data, text, facet_row, facet_col, facet_col_wrap, facet_row_spacing, facet_col_spacing, error_x, error_x_minus, error_y, error_y_minus, animation_frame, animation_group, category_orders, labels, orientation, color_discrete_sequence, color_discrete_map, line_dash_sequence, line_dash_map, log_x, log_y, range_x, range_y, line_shape, render_mode, title, template, width, height)\u001b[0m\n\u001b[0;32m    250\u001b[0m     \u001b[0ma\u001b[0m \u001b[0mpolyline\u001b[0m \u001b[0mmark\u001b[0m \u001b[1;32min\u001b[0m \u001b[1;36m2\u001b[0m\u001b[0mD\u001b[0m \u001b[0mspace\u001b[0m\u001b[1;33m.\u001b[0m\u001b[1;33m\u001b[0m\u001b[1;33m\u001b[0m\u001b[0m\n\u001b[0;32m    251\u001b[0m     \"\"\"\n\u001b[1;32m--> 252\u001b[1;33m     \u001b[1;32mreturn\u001b[0m \u001b[0mmake_figure\u001b[0m\u001b[1;33m(\u001b[0m\u001b[0margs\u001b[0m\u001b[1;33m=\u001b[0m\u001b[0mlocals\u001b[0m\u001b[1;33m(\u001b[0m\u001b[1;33m)\u001b[0m\u001b[1;33m,\u001b[0m \u001b[0mconstructor\u001b[0m\u001b[1;33m=\u001b[0m\u001b[0mgo\u001b[0m\u001b[1;33m.\u001b[0m\u001b[0mScatter\u001b[0m\u001b[1;33m)\u001b[0m\u001b[1;33m\u001b[0m\u001b[1;33m\u001b[0m\u001b[0m\n\u001b[0m\u001b[0;32m    253\u001b[0m \u001b[1;33m\u001b[0m\u001b[0m\n\u001b[0;32m    254\u001b[0m \u001b[1;33m\u001b[0m\u001b[0m\n",
      "\u001b[1;32mc:\\Users\\Szymon\\projects\\aoiw\\project\\env\\lib\\site-packages\\plotly\\express\\_core.py\u001b[0m in \u001b[0;36mmake_figure\u001b[1;34m(args, constructor, trace_patch, layout_patch)\u001b[0m\n\u001b[0;32m   1831\u001b[0m     \u001b[0mapply_default_cascade\u001b[0m\u001b[1;33m(\u001b[0m\u001b[0margs\u001b[0m\u001b[1;33m)\u001b[0m\u001b[1;33m\u001b[0m\u001b[1;33m\u001b[0m\u001b[0m\n\u001b[0;32m   1832\u001b[0m \u001b[1;33m\u001b[0m\u001b[0m\n\u001b[1;32m-> 1833\u001b[1;33m     \u001b[0margs\u001b[0m \u001b[1;33m=\u001b[0m \u001b[0mbuild_dataframe\u001b[0m\u001b[1;33m(\u001b[0m\u001b[0margs\u001b[0m\u001b[1;33m,\u001b[0m \u001b[0mconstructor\u001b[0m\u001b[1;33m)\u001b[0m\u001b[1;33m\u001b[0m\u001b[1;33m\u001b[0m\u001b[0m\n\u001b[0m\u001b[0;32m   1834\u001b[0m     \u001b[1;32mif\u001b[0m \u001b[0mconstructor\u001b[0m \u001b[1;32min\u001b[0m \u001b[1;33m[\u001b[0m\u001b[0mgo\u001b[0m\u001b[1;33m.\u001b[0m\u001b[0mTreemap\u001b[0m\u001b[1;33m,\u001b[0m \u001b[0mgo\u001b[0m\u001b[1;33m.\u001b[0m\u001b[0mSunburst\u001b[0m\u001b[1;33m]\u001b[0m \u001b[1;32mand\u001b[0m \u001b[0margs\u001b[0m\u001b[1;33m[\u001b[0m\u001b[1;34m\"path\"\u001b[0m\u001b[1;33m]\u001b[0m \u001b[1;32mis\u001b[0m \u001b[1;32mnot\u001b[0m \u001b[1;32mNone\u001b[0m\u001b[1;33m:\u001b[0m\u001b[1;33m\u001b[0m\u001b[1;33m\u001b[0m\u001b[0m\n\u001b[0;32m   1835\u001b[0m         \u001b[0margs\u001b[0m \u001b[1;33m=\u001b[0m \u001b[0mprocess_dataframe_hierarchy\u001b[0m\u001b[1;33m(\u001b[0m\u001b[0margs\u001b[0m\u001b[1;33m)\u001b[0m\u001b[1;33m\u001b[0m\u001b[1;33m\u001b[0m\u001b[0m\n",
      "\u001b[1;32mc:\\Users\\Szymon\\projects\\aoiw\\project\\env\\lib\\site-packages\\plotly\\express\\_core.py\u001b[0m in \u001b[0;36mbuild_dataframe\u001b[1;34m(args, constructor)\u001b[0m\n\u001b[0;32m   1355\u001b[0m     \u001b[1;31m# now that things have been prepped, we do the systematic rewriting of `args`\u001b[0m\u001b[1;33m\u001b[0m\u001b[1;33m\u001b[0m\u001b[1;33m\u001b[0m\u001b[0m\n\u001b[0;32m   1356\u001b[0m \u001b[1;33m\u001b[0m\u001b[0m\n\u001b[1;32m-> 1357\u001b[1;33m     df_output, wide_id_vars = process_args_into_dataframe(\n\u001b[0m\u001b[0;32m   1358\u001b[0m         \u001b[0margs\u001b[0m\u001b[1;33m,\u001b[0m \u001b[0mwide_mode\u001b[0m\u001b[1;33m,\u001b[0m \u001b[0mvar_name\u001b[0m\u001b[1;33m,\u001b[0m \u001b[0mvalue_name\u001b[0m\u001b[1;33m\u001b[0m\u001b[1;33m\u001b[0m\u001b[0m\n\u001b[0;32m   1359\u001b[0m     )\n",
      "\u001b[1;32mc:\\Users\\Szymon\\projects\\aoiw\\project\\env\\lib\\site-packages\\plotly\\express\\_core.py\u001b[0m in \u001b[0;36mprocess_args_into_dataframe\u001b[1;34m(args, wide_mode, var_name, value_name)\u001b[0m\n\u001b[0;32m   1199\u001b[0m \u001b[1;33m\u001b[0m\u001b[0m\n\u001b[0;32m   1200\u001b[0m                 \u001b[1;32mif\u001b[0m \u001b[0mlength\u001b[0m \u001b[1;32mand\u001b[0m \u001b[0mlen\u001b[0m\u001b[1;33m(\u001b[0m\u001b[0margument\u001b[0m\u001b[1;33m)\u001b[0m \u001b[1;33m!=\u001b[0m \u001b[0mlength\u001b[0m\u001b[1;33m:\u001b[0m\u001b[1;33m\u001b[0m\u001b[1;33m\u001b[0m\u001b[0m\n\u001b[1;32m-> 1201\u001b[1;33m                     raise ValueError(\n\u001b[0m\u001b[0;32m   1202\u001b[0m                         \u001b[1;34m\"All arguments should have the same length. \"\u001b[0m\u001b[1;33m\u001b[0m\u001b[1;33m\u001b[0m\u001b[0m\n\u001b[0;32m   1203\u001b[0m                         \u001b[1;34m\"The length of argument `%s` is %d, whereas the \"\u001b[0m\u001b[1;33m\u001b[0m\u001b[1;33m\u001b[0m\u001b[0m\n",
      "\u001b[1;31mValueError\u001b[0m: All arguments should have the same length. The length of argument `color` is 2, whereas the length of  previously-processed arguments ['class', 'anmrr_per_class'] is 84"
     ]
    }
   ],
   "source": [
    "fig = px.line(ble, x='class', y='anmrr_per_class', color=['clusters', 'samples'])\r\n",
    "fig.show(renderer='browser')"
   ]
  },
  {
   "cell_type": "code",
   "execution_count": 1,
   "metadata": {},
   "outputs": [],
   "source": [
    "import pandas as pd\r\n",
    "df = pd.read_pickle(\"..\\\\results\\\\bovw\\\\pattern_net\\\\results_PatternNet.pkl.gz\")"
   ]
  },
  {
   "cell_type": "code",
   "execution_count": 2,
   "metadata": {},
   "outputs": [
    {
     "data": {
      "text/html": "<div>\n<style scoped>\n    .dataframe tbody tr th:only-of-type {\n        vertical-align: middle;\n    }\n\n    .dataframe tbody tr th {\n        vertical-align: top;\n    }\n\n    .dataframe thead th {\n        text-align: right;\n    }\n</style>\n<table border=\"1\" class=\"dataframe\">\n  <thead>\n    <tr style=\"text-align: right;\">\n      <th></th>\n      <th>clusters</th>\n      <th>samples</th>\n      <th>anmrr</th>\n      <th>class</th>\n      <th>anmrr_per_class</th>\n      <th>experiment_name</th>\n    </tr>\n  </thead>\n  <tbody>\n    <tr>\n      <th>0</th>\n      <td>25</td>\n      <td>10000</td>\n      <td>0.646608</td>\n      <td>airplane</td>\n      <td>0.794673</td>\n      <td>25_10000</td>\n    </tr>\n    <tr>\n      <th>1</th>\n      <td>50</td>\n      <td>10000</td>\n      <td>0.639308</td>\n      <td>airplane</td>\n      <td>0.793991</td>\n      <td>50_10000</td>\n    </tr>\n    <tr>\n      <th>2</th>\n      <td>100</td>\n      <td>10000</td>\n      <td>0.639503</td>\n      <td>airplane</td>\n      <td>0.816029</td>\n      <td>100_10000</td>\n    </tr>\n    <tr>\n      <th>3</th>\n      <td>150</td>\n      <td>10000</td>\n      <td>0.641029</td>\n      <td>airplane</td>\n      <td>0.810513</td>\n      <td>150_10000</td>\n    </tr>\n    <tr>\n      <th>4</th>\n      <td>25</td>\n      <td>10000</td>\n      <td>0.646608</td>\n      <td>baseball_field</td>\n      <td>0.702366</td>\n      <td>25_10000</td>\n    </tr>\n    <tr>\n      <th>...</th>\n      <td>...</td>\n      <td>...</td>\n      <td>...</td>\n      <td>...</td>\n      <td>...</td>\n      <td>...</td>\n    </tr>\n    <tr>\n      <th>147</th>\n      <td>150</td>\n      <td>10000</td>\n      <td>0.641029</td>\n      <td>transformer_station</td>\n      <td>0.635342</td>\n      <td>150_10000</td>\n    </tr>\n    <tr>\n      <th>148</th>\n      <td>25</td>\n      <td>10000</td>\n      <td>0.646608</td>\n      <td>wastewater_treatment_plant</td>\n      <td>0.582049</td>\n      <td>25_10000</td>\n    </tr>\n    <tr>\n      <th>149</th>\n      <td>50</td>\n      <td>10000</td>\n      <td>0.639308</td>\n      <td>wastewater_treatment_plant</td>\n      <td>0.579714</td>\n      <td>50_10000</td>\n    </tr>\n    <tr>\n      <th>150</th>\n      <td>100</td>\n      <td>10000</td>\n      <td>0.639503</td>\n      <td>wastewater_treatment_plant</td>\n      <td>0.604003</td>\n      <td>100_10000</td>\n    </tr>\n    <tr>\n      <th>151</th>\n      <td>150</td>\n      <td>10000</td>\n      <td>0.641029</td>\n      <td>wastewater_treatment_plant</td>\n      <td>0.609059</td>\n      <td>150_10000</td>\n    </tr>\n  </tbody>\n</table>\n<p>152 rows × 6 columns</p>\n</div>",
      "text/plain": "     clusters  samples     anmrr                       class  anmrr_per_class  \\\n0          25    10000  0.646608                    airplane         0.794673   \n1          50    10000  0.639308                    airplane         0.793991   \n2         100    10000  0.639503                    airplane         0.816029   \n3         150    10000  0.641029                    airplane         0.810513   \n4          25    10000  0.646608              baseball_field         0.702366   \n..        ...      ...       ...                         ...              ...   \n147       150    10000  0.641029         transformer_station         0.635342   \n148        25    10000  0.646608  wastewater_treatment_plant         0.582049   \n149        50    10000  0.639308  wastewater_treatment_plant         0.579714   \n150       100    10000  0.639503  wastewater_treatment_plant         0.604003   \n151       150    10000  0.641029  wastewater_treatment_plant         0.609059   \n\n    experiment_name  \n0          25_10000  \n1          50_10000  \n2         100_10000  \n3         150_10000  \n4          25_10000  \n..              ...  \n147       150_10000  \n148        25_10000  \n149        50_10000  \n150       100_10000  \n151       150_10000  \n\n[152 rows x 6 columns]"
     },
     "execution_count": 2,
     "metadata": {},
     "output_type": "execute_result"
    }
   ],
   "source": [
    "df"
   ]
  },
  {
   "cell_type": "code",
   "execution_count": 1,
   "metadata": {},
   "outputs": [
    {
     "data": {
      "text/html": "<div>\n<style scoped>\n    .dataframe tbody tr th:only-of-type {\n        vertical-align: middle;\n    }\n\n    .dataframe tbody tr th {\n        vertical-align: top;\n    }\n\n    .dataframe thead th {\n        text-align: right;\n    }\n</style>\n<table border=\"1\" class=\"dataframe\">\n  <thead>\n    <tr style=\"text-align: right;\">\n      <th></th>\n      <th>clusters</th>\n      <th>samples</th>\n      <th>anmrr</th>\n      <th>airplane</th>\n      <th>baseball_field</th>\n      <th>basketball_court</th>\n      <th>beach</th>\n      <th>bridge</th>\n      <th>cemetery</th>\n      <th>chaparral</th>\n      <th>...</th>\n      <th>runway</th>\n      <th>runway_marking</th>\n      <th>shipping_yard</th>\n      <th>solar_panel</th>\n      <th>sparse_residential</th>\n      <th>storage_tank</th>\n      <th>swimming_pool</th>\n      <th>tennis_court</th>\n      <th>transformer_station</th>\n      <th>wastewater_treatment_plant</th>\n    </tr>\n  </thead>\n  <tbody>\n    <tr>\n      <th>0</th>\n      <td>25</td>\n      <td>10000</td>\n      <td>0.646608</td>\n      <td>0.794673</td>\n      <td>0.702366</td>\n      <td>0.816572</td>\n      <td>0.780473</td>\n      <td>0.898530</td>\n      <td>0.714336</td>\n      <td>0.155407</td>\n      <td>...</td>\n      <td>0.886427</td>\n      <td>0.626986</td>\n      <td>0.712538</td>\n      <td>0.813912</td>\n      <td>0.684642</td>\n      <td>0.873110</td>\n      <td>0.642944</td>\n      <td>0.758608</td>\n      <td>0.622773</td>\n      <td>0.582049</td>\n    </tr>\n    <tr>\n      <th>1</th>\n      <td>50</td>\n      <td>10000</td>\n      <td>0.639308</td>\n      <td>0.793991</td>\n      <td>0.710915</td>\n      <td>0.802887</td>\n      <td>0.712083</td>\n      <td>0.908407</td>\n      <td>0.690041</td>\n      <td>0.161920</td>\n      <td>...</td>\n      <td>0.891974</td>\n      <td>0.606092</td>\n      <td>0.676646</td>\n      <td>0.814375</td>\n      <td>0.710049</td>\n      <td>0.866169</td>\n      <td>0.625940</td>\n      <td>0.738600</td>\n      <td>0.618384</td>\n      <td>0.579715</td>\n    </tr>\n    <tr>\n      <th>2</th>\n      <td>100</td>\n      <td>10000</td>\n      <td>0.639503</td>\n      <td>0.816029</td>\n      <td>0.717126</td>\n      <td>0.798780</td>\n      <td>0.712857</td>\n      <td>0.917795</td>\n      <td>0.696039</td>\n      <td>0.153269</td>\n      <td>...</td>\n      <td>0.896159</td>\n      <td>0.612480</td>\n      <td>0.660708</td>\n      <td>0.810686</td>\n      <td>0.733362</td>\n      <td>0.848001</td>\n      <td>0.578548</td>\n      <td>0.724717</td>\n      <td>0.637846</td>\n      <td>0.604003</td>\n    </tr>\n    <tr>\n      <th>3</th>\n      <td>150</td>\n      <td>10000</td>\n      <td>0.641029</td>\n      <td>0.810513</td>\n      <td>0.723404</td>\n      <td>0.766496</td>\n      <td>0.739980</td>\n      <td>0.917812</td>\n      <td>0.695072</td>\n      <td>0.126087</td>\n      <td>...</td>\n      <td>0.905247</td>\n      <td>0.576298</td>\n      <td>0.668853</td>\n      <td>0.812598</td>\n      <td>0.754821</td>\n      <td>0.855477</td>\n      <td>0.546186</td>\n      <td>0.697861</td>\n      <td>0.635342</td>\n      <td>0.609059</td>\n    </tr>\n  </tbody>\n</table>\n<p>4 rows × 41 columns</p>\n</div>",
      "text/plain": "   clusters  samples     anmrr  airplane  baseball_field  basketball_court  \\\n0        25    10000  0.646608  0.794673        0.702366          0.816572   \n1        50    10000  0.639308  0.793991        0.710915          0.802887   \n2       100    10000  0.639503  0.816029        0.717126          0.798780   \n3       150    10000  0.641029  0.810513        0.723404          0.766496   \n\n      beach    bridge  cemetery  chaparral  ...    runway  runway_marking  \\\n0  0.780473  0.898530  0.714336   0.155407  ...  0.886427        0.626986   \n1  0.712083  0.908407  0.690041   0.161920  ...  0.891974        0.606092   \n2  0.712857  0.917795  0.696039   0.153269  ...  0.896159        0.612480   \n3  0.739980  0.917812  0.695072   0.126087  ...  0.905247        0.576298   \n\n   shipping_yard  solar_panel  sparse_residential  storage_tank  \\\n0       0.712538     0.813912            0.684642      0.873110   \n1       0.676646     0.814375            0.710049      0.866169   \n2       0.660708     0.810686            0.733362      0.848001   \n3       0.668853     0.812598            0.754821      0.855477   \n\n   swimming_pool  tennis_court  transformer_station  \\\n0       0.642944      0.758608             0.622773   \n1       0.625940      0.738600             0.618384   \n2       0.578548      0.724717             0.637846   \n3       0.546186      0.697861             0.635342   \n\n   wastewater_treatment_plant  \n0                    0.582049  \n1                    0.579715  \n2                    0.604003  \n3                    0.609059  \n\n[4 rows x 41 columns]"
     },
     "execution_count": 1,
     "metadata": {},
     "output_type": "execute_result"
    }
   ],
   "source": [
    "import pandas as pd\r\n",
    "df = pd.read_pickle(\"..\\\\results\\\\bovw\\\\pattern_net\\\\results_PatternNet.pkl.gz\")\r\n",
    "df"
   ]
  },
  {
   "cell_type": "code",
   "execution_count": 3,
   "metadata": {},
   "outputs": [],
   "source": [
    "import plotly.express as px\r\n",
    "\r\n",
    "results_long_form = df.melt(id_vars=['clusters', 'samples', 'anmrr'], var_name='class', value_name='anmrr_per_class')\r\n",
    "results_long_form['experiment_name'] = results_long_form.apply(lambda row: str(row['clusters']) + \"_\" + str(row['samples']), axis=1)\r\n",
    "fig = px.bar(results_long_form, x='class', y='anmrr_per_class', color='experiment_name', barmode='group')\r\n",
    "fig.show(renderer='browser')"
   ]
  },
  {
   "cell_type": "code",
   "execution_count": null,
   "metadata": {},
   "outputs": [],
   "source": []
  },
  {
   "cell_type": "code",
   "execution_count": null,
   "metadata": {},
   "outputs": [],
   "source": []
  }
 ],
 "metadata": {
  "kernelspec": {
   "display_name": "Python 3",
   "name": "python3"
  },
  "language_info": {
   "codemirror_mode": {
    "name": "ipython",
    "version": 3
   },
   "file_extension": ".py",
   "mimetype": "text/x-python",
   "name": "python",
   "nbconvert_exporter": "python",
   "pygments_lexer": "ipython3",
   "version": "3.8.6"
  },
  "orig_nbformat": 2
 },
 "nbformat": 4,
 "nbformat_minor": 2
}