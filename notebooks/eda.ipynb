{
 "cells": [
  {
   "cell_type": "code",
   "execution_count": 3,
   "metadata": {},
   "outputs": [],
   "source": [
    "%load_ext autoreload\r\n",
    "%autoreload 2"
   ]
  },
  {
   "cell_type": "code",
   "execution_count": 4,
   "metadata": {},
   "outputs": [],
   "source": [
    "from src.settings import UC_MERCED_DATA_DIRECTORY, PATTERN_NET_DATA_DIRECTORY\r\n",
    "from src.eda.eda import plot_counts, show_example_images, get_color_intensity_counts_per_class, generate_color_histograms\r\n",
    "from skimage import io\r\n",
    "import numpy as np\r\n",
    "import matplotlib.pyplot as plt\r\n",
    "import seaborn as sns\r\n",
    "import plotly.express as px\r\n",
    "import os"
   ]
  },
  {
   "cell_type": "code",
   "execution_count": null,
   "metadata": {},
   "outputs": [],
   "source": [
    "fig = plot_counts(UC_MERCED_DATA_DIRECTORY, \"UC Merced\", \"uc_merced\")\r\n",
    "fig.show(renderer='browser')\r\n"
   ]
  },
  {
   "cell_type": "code",
   "execution_count": null,
   "metadata": {},
   "outputs": [],
   "source": [
    "fig = show_example_images(UC_MERCED_DATA_DIRECTORY, \"uc_merced\")\r\n",
    "fig.show()"
   ]
  },
  {
   "cell_type": "code",
   "execution_count": null,
   "metadata": {},
   "outputs": [],
   "source": [
    "fig = plot_counts(PATTERN_NET_DATA_DIRECTORY, \"PatternNet\", \"pattern_net\")\r\n",
    "fig.show(renderer='browser')"
   ]
  },
  {
   "cell_type": "code",
   "execution_count": null,
   "metadata": {},
   "outputs": [],
   "source": [
    "fig = show_example_images(PATTERN_NET_DATA_DIRECTORY, \"pattern_net\")\r\n",
    "fig.show()"
   ]
  },
  {
   "cell_type": "code",
   "execution_count": null,
   "metadata": {},
   "outputs": [],
   "source": [
    "dfs = get_color_intensity_counts_per_class(PATTERN_NET_DATA_DIRECTORY)"
   ]
  },
  {
   "cell_type": "code",
   "execution_count": null,
   "metadata": {},
   "outputs": [],
   "source": [
    "generate_color_histograms(dfs, \"res\")"
   ]
  },
  {
   "cell_type": "code",
   "execution_count": 2,
   "metadata": {},
   "outputs": [
    {
     "data": {
      "text/html": "<div>\n<style scoped>\n    .dataframe tbody tr th:only-of-type {\n        vertical-align: middle;\n    }\n\n    .dataframe tbody tr th {\n        vertical-align: top;\n    }\n\n    .dataframe thead th {\n        text-align: right;\n    }\n</style>\n<table border=\"1\" class=\"dataframe\">\n  <thead>\n    <tr style=\"text-align: right;\">\n      <th></th>\n      <th>clusters</th>\n      <th>samples</th>\n      <th>anmrr</th>\n      <th>anmrr_per_class</th>\n    </tr>\n  </thead>\n  <tbody>\n    <tr>\n      <th>0</th>\n      <td>25</td>\n      <td>50</td>\n      <td>100</td>\n      <td>150</td>\n    </tr>\n    <tr>\n      <th>1</th>\n      <td>10000</td>\n      <td>10000</td>\n      <td>10000</td>\n      <td>10000</td>\n    </tr>\n    <tr>\n      <th>2</th>\n      <td>0.644045</td>\n      <td>0.641486</td>\n      <td>0.642345</td>\n      <td>0.647456</td>\n    </tr>\n    <tr>\n      <th>3</th>\n      <td>[[[[[...], [...], [...], [...]], [[...], [...]...</td>\n      <td>[[[[[...], [...], [...], [...]], [[...], [...]...</td>\n      <td>[[[[[...], [...], [...], [...]], [[...], [...]...</td>\n      <td>[[[[[...], [...], [...], [...]], [[...], [...]...</td>\n    </tr>\n  </tbody>\n</table>\n</div>",
      "text/plain": "                                            clusters  \\\n0                                                 25   \n1                                              10000   \n2                                           0.644045   \n3  [[[[[...], [...], [...], [...]], [[...], [...]...   \n\n                                             samples  \\\n0                                                 50   \n1                                              10000   \n2                                           0.641486   \n3  [[[[[...], [...], [...], [...]], [[...], [...]...   \n\n                                               anmrr  \\\n0                                                100   \n1                                              10000   \n2                                           0.642345   \n3  [[[[[...], [...], [...], [...]], [[...], [...]...   \n\n                                     anmrr_per_class  \n0                                                150  \n1                                              10000  \n2                                           0.647456  \n3  [[[[[...], [...], [...], [...]], [[...], [...]...  "
     },
     "execution_count": 2,
     "metadata": {},
     "output_type": "execute_result"
    }
   ],
   "source": [
    "import pandas as pd\r\n",
    "pd.read_pickle(\"..\\\\results\\\\bovw_UC Merced.pkl.gz\")"
   ]
  },
  {
   "cell_type": "code",
   "execution_count": null,
   "metadata": {},
   "outputs": [],
   "source": []
  }
 ],
 "metadata": {
  "kernelspec": {
   "display_name": "Python 3",
   "language": "python",
   "name": "python3"
  },
  "language_info": {
   "codemirror_mode": {
    "name": "ipython",
    "version": 3
   },
   "file_extension": ".py",
   "mimetype": "text/x-python",
   "name": "python",
   "nbconvert_exporter": "python",
   "pygments_lexer": "ipython3",
   "version": "3.8.6"
  }
 },
 "nbformat": 4,
 "nbformat_minor": 2
}