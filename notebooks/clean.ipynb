{
 "cells": [
  {
   "cell_type": "code",
   "execution_count": null,
   "metadata": {},
   "outputs": [],
   "source": [
    "from PIL import Image\n",
    "import numpy as np\n",
    "import os\n",
    "import matplotlib.pyplot as plt\n",
    "from tqdm import tqdm\n"
   ]
  },
  {
   "cell_type": "code",
   "execution_count": null,
   "metadata": {},
   "outputs": [],
   "source": [
    "path = \"C:\\\\Users\\\\Szymon\\\\projects\\\\aoiw\\\\datasets\\\\orto2020split\""
   ]
  },
  {
   "cell_type": "code",
   "execution_count": null,
   "metadata": {},
   "outputs": [],
   "source": [
    "percentages = []\n",
    "for f in tqdm(os.listdir(path)):\n",
    "    p = os.path.join(path, f)\n",
    "    x = Image.open(p)\n",
    "    size = x.size\n",
    "    u, counts = np.unique(x, return_counts=True)\n",
    "    percent_zeros = counts[u==0] / np.sum(counts)\n",
    "    if percent_zeros > 0.01:\n",
    "        os.remove(p)\n",
    "    else:\n",
    "        percentages.append((p, percent_zeros))"
   ]
  },
  {
   "cell_type": "code",
   "execution_count": null,
   "metadata": {},
   "outputs": [],
   "source": [
    "paths, percent = list(zip(*percentages))\n",
    "def get_ble(x):\n",
    "    if len(x) > 0: \n",
    "        return x[0]\n",
    "    else:\n",
    "        return 0.0\n",
    "    \n",
    "percent_ = np.array([get_ble(x) for x in percent ])\n",
    "\n"
   ]
  },
  {
   "cell_type": "code",
   "execution_count": null,
   "metadata": {
    "tags": []
   },
   "outputs": [],
   "source": [
    "for p, perc in zip(paths, percent_):\n",
    "    if(0.01 >= perc):\n",
    "        x = Image.open(p)\n",
    "        plt.imshow(x)\n",
    "        plt.show()"
   ]
  },
  {
   "cell_type": "code",
   "execution_count": null,
   "metadata": {},
   "outputs": [],
   "source": [
    "np.sum(percent_ > 0.3)"
   ]
  },
  {
   "cell_type": "code",
   "execution_count": null,
   "metadata": {},
   "outputs": [],
   "source": [
    "for im_path, percent in zip(os.listdir(path), percentages):\n",
    "    if percent > 0.1:\n",
    "        x = Image.open(os.path.join(path, im_path))\n",
    "        plt.imshow(x)\n",
    "        plt.show()\n"
   ]
  },
  {
   "cell_type": "code",
   "execution_count": null,
   "metadata": {},
   "outputs": [],
   "source": [
    "no"
   ]
  },
  {
   "cell_type": "code",
   "execution_count": null,
   "metadata": {},
   "outputs": [],
   "source": [
    "u, c = np.unique(non_empty, return_counts=True)\n",
    "print(u[u"
   ]
  },
  {
   "cell_type": "code",
   "execution_count": null,
   "metadata": {},
   "outputs": [],
   "source": [
    "import plotly.express as px"
   ]
  },
  {
   "cell_type": "code",
   "execution_count": null,
   "metadata": {},
   "outputs": [],
   "source": [
    "px.histogram(non_empty, nbins=30)"
   ]
  },
  {
   "cell_type": "code",
   "execution_count": null,
   "metadata": {},
   "outputs": [],
   "source": []
  }
 ],
 "metadata": {
  "kernelspec": {
   "display_name": "Python 3",
   "language": "python",
   "name": "python3"
  },
  "language_info": {
   "codemirror_mode": {
    "name": "ipython",
    "version": 3
   },
   "file_extension": ".py",
   "mimetype": "text/x-python",
   "name": "python",
   "nbconvert_exporter": "python",
   "pygments_lexer": "ipython3",
   "version": "3.8.6-final"
  },
  "orig_nbformat": 2
 },
 "nbformat": 4,
 "nbformat_minor": 2
}