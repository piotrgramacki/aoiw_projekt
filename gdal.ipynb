{
 "cells": [
  {
   "cell_type": "code",
   "execution_count": null,
   "metadata": {},
   "outputs": [],
   "source": [
    "import rasterio\n",
    "from rasterio.windows import from_bounds, Window, get_data_window\n",
    "from rasterio.enums import Resampling\n",
    "import matplotlib.pyplot as plt\n",
    "import numpy as np\n",
    "\n",
    "from rasterio.transform import Affine\n",
    "from src.data.gdal_triplet_dataset_generator import GdalTripletDatasetGenerator"
   ]
  },
  {
   "cell_type": "code",
   "execution_count": null,
   "metadata": {},
   "outputs": [],
   "source": [
    "generator = GdalTripletDatasetGenerator(\"C:\\\\Users\\\\Szymon\\\\projects\\\\aoiw\\\\datasets\\\\orto2020.vrt\")\n",
    "generator.generate_dataset(\"C:\\\\Users\\\\Szymon\\\\projects\\\\aoiw\\\\datasets\\\\orto2020split\", \"C:\\\\Users\\\\Szymon\\\\projects\\\\aoiw\\\\datasets\\\\orto2020pos\")"
   ]
  },
  {
   "cell_type": "code",
   "execution_count": null,
   "metadata": {},
   "outputs": [],
   "source": [
    "import math\n",
    "def plot_rasterio_image(array: np.ndarray):\n",
    "    image_array = np.moveaxis(array, 0, -1)\n",
    "    plt.imshow(image_array)\n",
    "    plt.show()\n",
    "\n",
    "def save_raster_file(path, dataset, window, image):\n",
    "    kwargs = dataset.meta.copy()\n",
    "    kwargs.update({\n",
    "        'driver': 'GTiff',\n",
    "        'height': window.height,\n",
    "        'width': window.width,\n",
    "        'transform': rasterio.windows.transform(window, dataset.transform)})\n",
    "\n",
    "    with rasterio.open(path, 'w', **kwargs) as dst:\n",
    "        dst.write(image)\n",
    "\n",
    "def get_randomly_shifted_image(dataset, image, shift_min_percent = 0.2, shift_max_percent = 0.8):\n",
    "    image_width, image_height = image.width, image.height\n",
    "\n",
    "    min_shift_x = math.floor(shift_min_percent * image_width)\n",
    "    max_shift_x = math.floor(shift_max_percent * image_width)\n",
    "\n",
    "    min_shift_y = math.floor(shift_min_percent * image_height)\n",
    "    max_shift_y = math.floor(shift_max_percent * image_height)\n",
    "\n",
    "    x_min_bound = 0\n",
    "    x_max_bound = dataset.width - image_width\n",
    "    y_min_bound = 0\n",
    "    y_max_bound = dataset.height - image_height\n",
    "\n",
    "\n",
    "    image_x, image_y = image.xy(0, 0)\n",
    "    dataset_row, dataset_col = dataset.index(image_x, image_y)\n",
    "\n",
    "    def valid_lower_point(threshold, value):\n",
    "        return max(threshold, value)\n",
    "    \n",
    "    def valid_upper_point(threshold, value):\n",
    "        return min(threshold, value)\n",
    "\n",
    "    def valid_lower_x(x):\n",
    "        return valid_lower_point(x_min_bound, x)\n",
    "    \n",
    "    def valid_lower_y(y):\n",
    "        return valid_lower_point(y_min_bound, y)\n",
    "    \n",
    "    def valid_upper_x(x):\n",
    "        return valid_upper_point(x_max_bound, x)\n",
    "    \n",
    "    def valid_upper_y(y):\n",
    "        return valid_upper_point(y_max_bound, y)\n",
    "\n",
    "\n",
    "    blex1 = np.arange(valid_lower_x(dataset_col - max_shift_x), valid_lower_x(dataset_col - min_shift_x))\n",
    "    blex2 = np.arange(valid_upper_x(dataset_col + min_shift_x), valid_upper_x(dataset_col + max_shift_x))\n",
    "\n",
    "    bley1 = np.arange(valid_lower_y(dataset_row - max_shift_y), valid_lower_y(dataset_row - min_shift_y))\n",
    "    bley2 = np.arange(valid_upper_y(dataset_row + min_shift_y), valid_upper_y(dataset_row + max_shift_y))\n",
    "    x_range = np.concatenate([\n",
    "        blex1, blex2\n",
    "    ])\n",
    "\n",
    "    y_range = np.concatenate([\n",
    "        bley1, bley2\n",
    "    ])\n",
    "\n",
    "    new_x = np.random.choice(x_range)\n",
    "    new_y = np.random.choice(y_range)\n",
    "\n",
    "    dataset_window = Window(new_x, new_y, image_width, image_height)\n",
    "    p = dataset.read(window=dataset_window)\n",
    "    return dataset_window, p\n",
    "\n",
    "\n",
    "for i in range(10):\n",
    "    perc = 1\n",
    "    while perc >= 0.001:\n",
    "        window, image = get_randomly_shifted_image(dataset, patch)\n",
    "        percent_zeros = np.sum(image == 0) / np.size(image)\n",
    "        if percent_zeros >= 0.001:\n",
    "            plot_rasterio_image(image)\n",
    "        else:\n",
    "            path = f\"im{i}.tif\"\n",
    "            save_raster_file(path, dataset, window, image)\n",
    "        perc = percent_zeros\n",
    "\n"
   ]
  },
  {
   "cell_type": "code",
   "execution_count": null,
   "metadata": {},
   "outputs": [],
   "source": [
    "w=Window(5000, 5000, 400, 400)\n",
    "d = dataset.read([1,2,3], window=w)\n",
    "plot_rasterio_image(d)"
   ]
  },
  {
   "cell_type": "code",
   "execution_count": null,
   "metadata": {},
   "outputs": [],
   "source": [
    "window = get_data_window(xd)\n",
    "window"
   ]
  },
  {
   "cell_type": "code",
   "execution_count": null,
   "metadata": {},
   "outputs": [],
   "source": [
    "win_transform = dataset.window_transform(w)\n",
    "win_transform"
   ]
  },
  {
   "cell_type": "code",
   "execution_count": null,
   "metadata": {},
   "outputs": [],
   "source": [
    "offset_x = np.random.random_integers(-320, 320)\n",
    "offset_y = np.random.random_integers(-320, 320)\n",
    "offset_x, offset_y\n"
   ]
  },
  {
   "cell_type": "code",
   "execution_count": null,
   "metadata": {},
   "outputs": [],
   "source": [
    "dataset.bounds"
   ]
  },
  {
   "cell_type": "code",
   "execution_count": null,
   "metadata": {},
   "outputs": [],
   "source": [
    "dataset.transform."
   ]
  },
  {
   "cell_type": "code",
   "execution_count": null,
   "metadata": {},
   "outputs": [],
   "source": [
    "patch.transform"
   ]
  },
  {
   "cell_type": "code",
   "execution_count": null,
   "metadata": {},
   "outputs": [],
   "source": [
    "patch.bounds"
   ]
  },
  {
   "cell_type": "code",
   "execution_count": null,
   "metadata": {},
   "outputs": [],
   "source": [
    "y = dataset.height * 2 // 3\n",
    "x = dataset.width * 2 // 3\n",
    "rst = dataset.read([1,2,3], window=Window(x, y, 400, 400))"
   ]
  },
  {
   "cell_type": "code",
   "execution_count": null,
   "metadata": {},
   "outputs": [],
   "source": [
    "new_x, new_y = x+offset_x, y+offset_y\n",
    "new_x,new_y"
   ]
  },
  {
   "cell_type": "code",
   "execution_count": null,
   "metadata": {},
   "outputs": [],
   "source": [
    "\n",
    "anchor = np.moveaxis(rst, 0, -1)\n",
    "plt.imshow(anchor)\n",
    "plt.show()"
   ]
  },
  {
   "cell_type": "code",
   "execution_count": null,
   "metadata": {},
   "outputs": [],
   "source": [
    "close = dataset.read([1,2,3], window=Window(new_x, new_y, 400, 400))"
   ]
  },
  {
   "cell_type": "code",
   "execution_count": null,
   "metadata": {},
   "outputs": [],
   "source": [
    "pos = np.moveaxis(close, 0, -1)\n",
    "plt.imshow(pos)\n",
    "plt.show()"
   ]
  },
  {
   "cell_type": "code",
   "execution_count": null,
   "metadata": {},
   "outputs": [],
   "source": [
    "row, col = dataset.index(362726.92,362330.49)"
   ]
  },
  {
   "cell_type": "code",
   "execution_count": null,
   "metadata": {},
   "outputs": [],
   "source": [
    "size = 400\n",
    "school = dataset.read([1,2,3], window=Window(col-(size // 2), row-(size // 2), size, size))\n",
    "\n",
    "school"
   ]
  },
  {
   "cell_type": "code",
   "execution_count": null,
   "metadata": {},
   "outputs": [],
   "source": [
    "s = np.moveaxis(school, 0, -1)\n",
    "plt.imshow(s)\n",
    "plt.show()"
   ]
  },
  {
   "cell_type": "code",
   "execution_count": null,
   "metadata": {},
   "outputs": [],
   "source": [
    "dataset.bounds"
   ]
  },
  {
   "cell_type": "code",
   "execution_count": null,
   "metadata": {},
   "outputs": [],
   "source": [
    "from PIL import Image\n",
    "im = Image.fromarray(s)\n",
    "im.save(\"your_file.jpeg\")"
   ]
  },
  {
   "cell_type": "code",
   "execution_count": null,
   "metadata": {},
   "outputs": [],
   "source": []
  }
 ],
 "metadata": {
  "kernelspec": {
   "display_name": "Python 3",
   "language": "python",
   "name": "python3"
  },
  "language_info": {
   "codemirror_mode": {
    "name": "ipython",
    "version": 3
   },
   "file_extension": ".py",
   "mimetype": "text/x-python",
   "name": "python",
   "nbconvert_exporter": "python",
   "pygments_lexer": "ipython3",
   "version": "3.8.6-final"
  },
  "orig_nbformat": 2
 },
 "nbformat": 4,
 "nbformat_minor": 2
}