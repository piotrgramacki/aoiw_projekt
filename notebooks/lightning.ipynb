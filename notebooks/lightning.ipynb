{
 "cells": [
  {
   "cell_type": "code",
   "execution_count": null,
   "metadata": {},
   "outputs": [],
   "source": [
    "%load_ext autoreload\r\n",
    "%autoreload 2"
   ]
  },
  {
   "cell_type": "code",
   "execution_count": null,
   "metadata": {},
   "outputs": [],
   "source": [
    "import torch\r\n",
    "from torch.utils.data import DataLoader\r\n",
    "import pytorch_lightning as pl\r\n",
    "from pytorch_lightning.loggers import WandbLogger\r\n",
    "from src.evaluation import evaluate_anmrr\r\n",
    "from typing import List, Dict, Any"
   ]
  },
  {
   "cell_type": "code",
   "execution_count": null,
   "metadata": {},
   "outputs": [],
   "source": [
    "from src.data.ucmerced_dataset import UcMercedDataset\r\n",
    "from src.settings import TRAIN_DATA_DIRECTORY, TEST_DATA_DIRECTORY\r\n",
    "image_size = 224\r\n",
    "train_dataset = UcMercedDataset(TRAIN_DATA_DIRECTORY, image_size, train=True)\r\n",
    "test_dataset = UcMercedDataset(TEST_DATA_DIRECTORY, image_size, train=False)\r\n",
    "\r\n",
    "train_dataloader = DataLoader(train_dataset, batch_size=80, shuffle=True, num_workers=10)\r\n",
    "test_dataloader = DataLoader(test_dataset, shuffle=False, batch_size=100, num_workers=10)\r\n",
    "\r\n",
    "triplet_retriever = TripletRetriever(\"resnet18\")\r\n",
    "wandb_logger = WandbLogger('uc_merced_100_1', project='triplet_retrieval')\r\n",
    "trainer = pl.Trainer(max_epochs=2, gpus=1, logger=wandb_logger)"
   ]
  },
  {
   "cell_type": "code",
   "execution_count": null,
   "metadata": {},
   "outputs": [],
   "source": [
    "\r\n",
    "trainer.fit(triplet_retriever, train_dataloader, test_dataloader)"
   ]
  },
  {
   "cell_type": "code",
   "execution_count": null,
   "metadata": {},
   "outputs": [],
   "source": [
    "wandb_logger.close()\r\n",
    "wandb_logger.save()"
   ]
  },
  {
   "cell_type": "code",
   "execution_count": null,
   "metadata": {},
   "outputs": [],
   "source": []
  }
 ],
 "metadata": {
  "kernelspec": {
   "display_name": "Python 3",
   "language": "python",
   "name": "python3"
  },
  "language_info": {
   "codemirror_mode": {
    "name": "ipython",
    "version": 3
   },
   "file_extension": ".py",
   "mimetype": "text/x-python",
   "name": "python",
   "nbconvert_exporter": "python",
   "pygments_lexer": "ipython3",
   "version": "3.8.6"
  },
  "orig_nbformat": 2
 },
 "nbformat": 4,
 "nbformat_minor": 2
}