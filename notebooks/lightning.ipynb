{
 "cells": [
  {
   "cell_type": "code",
   "execution_count": null,
   "metadata": {},
   "outputs": [],
   "source": [
    "%load_ext autoreload\r\n",
    "%autoreload 2"
   ]
  },
  {
   "cell_type": "code",
   "execution_count": null,
   "metadata": {},
   "outputs": [],
   "source": [
    "import torch\r\n",
    "from torch.utils.data import DataLoader\r\n",
    "import pytorch_lightning as pl\r\n",
    "from pytorch_lightning.loggers import WandbLogger\r\n",
    "from src.evaluation import evaluate_anmrr\r\n",
    "from typing import List, Dict, Any"
   ]
  },
  {
   "cell_type": "code",
   "execution_count": null,
   "metadata": {},
   "outputs": [],
   "source": [
    "class TripletRetriever(pl.LightningModule):\r\n",
    "    def __init__(self, model_name: str, last_layer_size=100):\r\n",
    "        super().__init__()\r\n",
    "        self.model = torch.hub.load('pytorch/vision', model_name, pretrained=True)\r\n",
    "        self.model.fc = torch.nn.Linear(512, last_layer_size, bias=True)\r\n",
    "        self.set_training_model_layers(False, 8)\r\n",
    "        self.criterion = torch.nn.TripletMarginLoss()\r\n",
    "\r\n",
    "    def forward(self, x):\r\n",
    "        return self.model(x)\r\n",
    "\r\n",
    "    def training_step(self, batch, batch_idx):\r\n",
    "        anchors = batch['a']\r\n",
    "        positives = batch['p']\r\n",
    "        negatives = batch['n']\r\n",
    "        a = self.model(anchors)\r\n",
    "        p = self.model(positives)\r\n",
    "        n = self.model(negatives)\r\n",
    "        loss = self.criterion(a, p, n)\r\n",
    "        self.log('train_loss', loss)\r\n",
    "        return loss\r\n",
    "    \r\n",
    "    def validation_step(self, batch, batch_idx):\r\n",
    "        anchors = batch['a']\r\n",
    "        positives = batch['p']\r\n",
    "        negatives = batch['n']\r\n",
    "        a = self.model(anchors)\r\n",
    "        p = self.model(positives)\r\n",
    "        n = self.model(negatives)\r\n",
    "        loss = self.criterion(a, p, n)\r\n",
    "        self.log('valid_loss', loss)\r\n",
    "        return loss\r\n",
    "    \r\n",
    "    def training_epoch_end(self, outputs: List[Any]) -> None:\r\n",
    "        print(outputs)\r\n",
    "        return super().training_epoch_end(outputs)\r\n",
    "\r\n",
    "    def configure_optimizers(self):\r\n",
    "        optim = torch.optim.Adam(self.model.parameters(), weight_decay=1e-5)\r\n",
    "        return optim\r\n",
    "    \r\n",
    "    def set_training_model_layers(self, training: bool, up_to_index: int):\r\n",
    "        i = 0\r\n",
    "        for child in self.model.children():\r\n",
    "            if i > up_to_index:\r\n",
    "                break\r\n",
    "            for param in child.parameters():\r\n",
    "                param.requires_grad = training\r\n",
    "            i += 1"
   ]
  },
  {
   "cell_type": "code",
   "execution_count": null,
   "metadata": {},
   "outputs": [],
   "source": [
    "from src.data.ucmerced_dataset import UcMercedDataset\r\n",
    "from src.settings import TRAIN_DATA_DIRECTORY, TEST_DATA_DIRECTORY\r\n",
    "image_size = 224\r\n",
    "train_dataset = UcMercedDataset(TRAIN_DATA_DIRECTORY, image_size, train=True)\r\n",
    "test_dataset = UcMercedDataset(TEST_DATA_DIRECTORY, image_size, train=False)\r\n",
    "\r\n",
    "train_dataloader = DataLoader(train_dataset, batch_size=80, shuffle=True, num_workers=10)\r\n",
    "test_dataloader = DataLoader(test_dataset, shuffle=False, batch_size=100, num_workers=10)\r\n",
    "\r\n",
    "triplet_retriever = TripletRetriever(\"resnet18\")\r\n",
    "wandb_logger = WandbLogger('uc_merced_100_1', project='triplet_retrieval')\r\n",
    "trainer = pl.Trainer(max_epochs=2, gpus=1, logger=wandb_logger)"
   ]
  },
  {
   "cell_type": "code",
   "execution_count": null,
   "metadata": {},
   "outputs": [],
   "source": [
    "\r\n",
    "trainer.fit(triplet_retriever, train_dataloader, test_dataloader)"
   ]
  },
  {
   "cell_type": "code",
   "execution_count": null,
   "metadata": {},
   "outputs": [],
   "source": [
    "wandb_logger.close()\r\n",
    "wandb_logger.save()"
   ]
  },
  {
   "cell_type": "code",
   "execution_count": null,
   "metadata": {},
   "outputs": [],
   "source": []
  }
 ],
 "metadata": {
  "kernelspec": {
   "display_name": "Python 3",
   "language": "python",
   "name": "python3"
  },
  "language_info": {
   "codemirror_mode": {
    "name": "ipython",
    "version": 3
   },
   "file_extension": ".py",
   "mimetype": "text/x-python",
   "name": "python",
   "nbconvert_exporter": "python",
   "pygments_lexer": "ipython3",
   "version": "3.8.6"
  },
  "orig_nbformat": 2
 },
 "nbformat": 4,
 "nbformat_minor": 2
}