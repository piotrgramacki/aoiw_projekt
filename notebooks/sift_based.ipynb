{
 "cells": [
  {
   "cell_type": "code",
   "execution_count": 1,
   "metadata": {
    "collapsed": true
   },
   "outputs": [],
   "source": [
    "%load_ext autoreload\n",
    "%autoreload 2"
   ]
  },
  {
   "cell_type": "code",
   "execution_count": 51,
   "outputs": [],
   "source": [
    "import numpy as np\n",
    "import cv2\n",
    "from tqdm import trange\n",
    "from sklearn.model_selection import train_test_split\n",
    "from skimage import io, img_as_ubyte\n",
    "from sklearn.cluster import KMeans\n",
    "\n",
    "from src.data.ucmerced_dataset import UcMercedDataset\n",
    "from src.settings import DATA_DIRECTORY"
   ],
   "metadata": {
    "collapsed": false,
    "pycharm": {
     "name": "#%%\n"
    }
   }
  },
  {
   "cell_type": "code",
   "execution_count": 3,
   "outputs": [],
   "source": [
    "dataset = UcMercedDataset(DATA_DIRECTORY)"
   ],
   "metadata": {
    "collapsed": false,
    "pycharm": {
     "name": "#%%\n"
    }
   }
  },
  {
   "cell_type": "code",
   "execution_count": 4,
   "outputs": [
    {
     "name": "stderr",
     "output_type": "stream",
     "text": [
      "100%|██████████| 2056/2056 [00:11<00:00, 179.97it/s]\n"
     ]
    }
   ],
   "source": [
    "x = np.empty(shape=(dataset.__len__(), 256, 256, 3))\n",
    "y = np.empty(shape=(dataset.__len__(), ), dtype=np.int)\n",
    "\n",
    "for idx in trange(dataset.__len__()):\n",
    "    item = dataset.__getitem__(idx)\n",
    "\n",
    "    x[idx] = item['a']\n",
    "    y[idx] = item['a_y']"
   ],
   "metadata": {
    "collapsed": false,
    "pycharm": {
     "name": "#%%\n"
    }
   }
  },
  {
   "cell_type": "code",
   "execution_count": 40,
   "outputs": [],
   "source": [
    "x_train, x_test, y_train, y_test = train_test_split(x, y, test_size=0.8)"
   ],
   "metadata": {
    "collapsed": false,
    "pycharm": {
     "name": "#%%\n"
    }
   }
  },
  {
   "cell_type": "code",
   "execution_count": 41,
   "outputs": [],
   "source": [
    "sift = cv2.SIFT_create()"
   ],
   "metadata": {
    "collapsed": false,
    "pycharm": {
     "name": "#%%\n"
    }
   }
  },
  {
   "cell_type": "code",
   "execution_count": 48,
   "outputs": [],
   "source": [
    "def get_descriptors(images):\n",
    "    desc = []\n",
    "\n",
    "    for img in images:\n",
    "        cv_img = img_as_ubyte(img)\n",
    "        cv_img = cv2.cvtColor(cv_img, cv2.COLOR_RGB2GRAY)\n",
    "        _, d = sift.detectAndCompute(cv_img, None)\n",
    "        if d is not None:\n",
    "            desc.append(d)\n",
    "\n",
    "    return np.vstack(desc)"
   ],
   "metadata": {
    "collapsed": false,
    "pycharm": {
     "name": "#%%\n"
    }
   }
  },
  {
   "cell_type": "code",
   "execution_count": 49,
   "outputs": [],
   "source": [
    "descriptors = get_descriptors(x_train)"
   ],
   "metadata": {
    "collapsed": false,
    "pycharm": {
     "name": "#%%\n"
    }
   }
  },
  {
   "cell_type": "code",
   "execution_count": 59,
   "outputs": [
    {
     "data": {
      "text/plain": "KMeans(n_clusters=15)"
     },
     "execution_count": 59,
     "metadata": {},
     "output_type": "execute_result"
    }
   ],
   "source": [
    "k_means = KMeans(n_clusters=15)\n",
    "\n",
    "k_means.fit(descriptors[:1000])"
   ],
   "metadata": {
    "collapsed": false,
    "pycharm": {
     "name": "#%%\n"
    }
   }
  },
  {
   "cell_type": "code",
   "execution_count": 60,
   "outputs": [],
   "source": [
    "test_ex = x_test[:1]\n",
    "\n",
    "test_ex_desc = get_descriptors(test_ex)"
   ],
   "metadata": {
    "collapsed": false,
    "pycharm": {
     "name": "#%%\n"
    }
   }
  },
  {
   "cell_type": "code",
   "execution_count": 61,
   "outputs": [],
   "source": [
    "codewords = k_means.predict(test_ex_desc)"
   ],
   "metadata": {
    "collapsed": false,
    "pycharm": {
     "name": "#%%\n"
    }
   }
  },
  {
   "cell_type": "code",
   "execution_count": 68,
   "outputs": [
    {
     "data": {
      "text/plain": "array([0.08471455, 0.05064457, 0.04143646, 0.0718232 , 0.04880295,\n       0.08195212, 0.09760589, 0.09116022, 0.053407  , 0.04143646,\n       0.06537753, 0.05985267, 0.11878453, 0.03959484, 0.053407  ])"
     },
     "execution_count": 68,
     "metadata": {},
     "output_type": "execute_result"
    }
   ],
   "source": [
    "np.histogram(codewords, bins=15)[0] / np.shape(codewords)[0]"
   ],
   "metadata": {
    "collapsed": false,
    "pycharm": {
     "name": "#%%\n"
    }
   }
  },
  {
   "cell_type": "code",
   "execution_count": 65,
   "outputs": [
    {
     "data": {
      "text/plain": "array([ 92,  55,  45,  78,  53,  89, 106,  99,  58,  45,  71,  65, 129,\n        43,  58])"
     },
     "execution_count": 65,
     "metadata": {},
     "output_type": "execute_result"
    }
   ],
   "source": [
    "np.unique(codewords, return_counts=True)[1]"
   ],
   "metadata": {
    "collapsed": false,
    "pycharm": {
     "name": "#%%\n"
    }
   }
  }
 ],
 "metadata": {
  "kernelspec": {
   "display_name": "Python 3",
   "language": "python",
   "name": "python3"
  },
  "language_info": {
   "codemirror_mode": {
    "name": "ipython",
    "version": 2
   },
   "file_extension": ".py",
   "mimetype": "text/x-python",
   "name": "python",
   "nbconvert_exporter": "python",
   "pygments_lexer": "ipython2",
   "version": "2.7.6"
  }
 },
 "nbformat": 4,
 "nbformat_minor": 0
}