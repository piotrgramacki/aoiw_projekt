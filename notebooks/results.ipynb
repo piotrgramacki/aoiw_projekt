{
 "cells": [
  {
   "cell_type": "code",
   "execution_count": null,
   "metadata": {},
   "outputs": [],
   "source": [
    "from src.models.triplet_retriever import TripletRetriever\r\n",
    "import torch\r\n",
    "from sklearn.manifold import TSNE\r\n",
    "import matplotlib.pyplot as plt\r\n",
    "from matplotlib.offsetbox import OffsetImage, AnnotationBbox\r\n",
    "from src.data.ucmerced_dataset import TripletDataModule\r\n",
    "from src.settings import UC_MERCED_DATA_DIRECTORY, PATTERN_NET_DATA_DIRECTORY\r\n",
    "from src.evaluation import evaluate_anmrr\r\n",
    "import plotly.express as px\r\n",
    "\r\n",
    "from IPython.display import Image\r\n",
    "from IPython.display import display\r\n",
    "from skimage import io\r\n",
    "\r\n",
    "from src.visualisation import visualize_best_and_worst_queries\r\n"
   ]
  },
  {
   "cell_type": "code",
   "execution_count": null,
   "metadata": {},
   "outputs": [],
   "source": [
    "import numpy as np\r\n",
    "from PIL import Image\r\n",
    "def visualize_tsne_embeddings(embeddings: np.array, image_paths, name):\r\n",
    "\r\n",
    "    def get_image(path):\r\n",
    "        img = Image.open(path)\r\n",
    "        # img.resize((10,10))\r\n",
    "        a = np.asarray(img)\r\n",
    "        return OffsetImage(a, zoom=0.15)\r\n",
    "\r\n",
    "\r\n",
    "    fig, ax = plt.subplots(figsize=(15,15))\r\n",
    "    ax.scatter(embeddings[:, 0], embeddings[:, 1]) \r\n",
    "    for image_path, (x, y) in zip(image_paths, embeddings):\r\n",
    "        ab = AnnotationBbox(get_image(image_path), (x, y), frameon=False)\r\n",
    "        ax.add_artist(ab)\r\n",
    "    fig.savefig(name, dpi=300, bbox_inches='tight', pad_inches=0)\r\n",
    "    plt.show()"
   ]
  },
  {
   "cell_type": "code",
   "execution_count": null,
   "metadata": {},
   "outputs": [],
   "source": [
    "def calculate_embeddings(model, dataloader):\r\n",
    "    paths = []\r\n",
    "    embeddings = []\r\n",
    "    classes = []\r\n",
    "    with torch.no_grad():\r\n",
    "        for i_batch, sample_batched in enumerate(dataloader):\r\n",
    "            anchors = sample_batched['a'].cuda()\r\n",
    "            y = sample_batched['a_y']\r\n",
    "            classes.append(y.cpu().numpy())\r\n",
    "            anchor_paths = sample_batched['path']\r\n",
    "            paths.extend(anchor_paths)\r\n",
    "            a = model(anchors).cpu().numpy()\r\n",
    "            embeddings.append(a)\r\n",
    "\r\n",
    "        embeddings = np.concatenate(embeddings)\r\n",
    "        classes = np.concatenate(classes)\r\n",
    "    return paths, embeddings, classes"
   ]
  },
  {
   "cell_type": "code",
   "execution_count": null,
   "metadata": {},
   "outputs": [],
   "source": [
    "def analyze_embeddings(paths, embeddings, classes, name):\r\n",
    "    tsne_embeddings = TSNE(n_components=2).fit_transform(embeddings)\r\n",
    "    visualize_tsne_embeddings(tsne_embeddings, paths, name)"
   ]
  },
  {
   "cell_type": "code",
   "execution_count": null,
   "metadata": {},
   "outputs": [],
   "source": [
    "def load_model_dataloader(model_name, output_size, ckpt_path, data_path):\r\n",
    "    checkpoint = torch.load(ckpt_path)\r\n",
    "    model = TripletRetriever(model_name, 224, output_size)\r\n",
    "    model.load_state_dict(checkpoint['state_dict'])\r\n",
    "    model = model.cuda()\r\n",
    "    dm = TripletDataModule(data_path, 224, 0.8, 100)\r\n",
    "    dm.setup(None)\r\n",
    "    val = dm.val_dataloader()\r\n",
    "    return model, val, dm"
   ]
  },
  {
   "cell_type": "code",
   "execution_count": null,
   "metadata": {},
   "outputs": [],
   "source": [
    "def analyze_anmrr(model, dataloader, label_name_mapping):\r\n",
    "    with torch.no_grad():\r\n",
    "        anmrr, anmrr_per_class = evaluate_anmrr(model, val, euclidean_distances, True)\r\n",
    "        x, y = zip(*anmrr_per_class)\r\n",
    "        x = list(x)\r\n",
    "        y = list(y)\r\n",
    "        label_name_mapping = label_name_mapping\r\n",
    "        names = [label_name_mapping[l] for l in x]\r\n",
    "        fig = px.bar(x=names, y=y, labels={'y': 'ANMRR'})\r\n",
    "        fig.update_xaxes(type='category')\r\n",
    "        fig.show(renderer='browser')\r\n"
   ]
  },
  {
   "cell_type": "code",
   "execution_count": null,
   "metadata": {},
   "outputs": [],
   "source": [
    "def show_example_queries(paths, embeddings, classes, label_name_mapping):\r\n",
    "    distances = euclidean_distances(embeddings)\r\n",
    "    if(len(classes.shape) < 2):\r\n",
    "        classes = classes[:, None]\r\n",
    "\r\n",
    "    paths = np.array(paths).squeeze()\r\n",
    "    rankings = np.argsort(distances, axis=1)\r\n",
    "    selected_images = paths[rankings]\r\n",
    "\r\n",
    "    cols = 3\r\n",
    "    rows = 3\r\n",
    "\r\n",
    "    for label, name in label_name_mapping.items():\r\n",
    "        \r\n",
    "        indices_with_class = np.argwhere(classes == label)[:, 0].squeeze()\r\n",
    "        example_query_index = np.random.choice(indices_with_class)\r\n",
    "\r\n",
    "        query_image_path = paths[example_query_index]\r\n",
    "        example_query = selected_images[example_query_index, :].squeeze()\r\n",
    "\r\n",
    "        query_image = io.imread(query_image_path)\r\n",
    "        \r\n",
    "        fig=plt.figure(figsize=(3, 3))\r\n",
    "        plt.imshow(query_image)\r\n",
    "        query_image_name = os.path.split(query_image_path)[1]\r\n",
    "        plt.title(f\"Query: {query_image_name}\")\r\n",
    "        plt.axis(\"off\")\r\n",
    "        plt.show()\r\n",
    "        \r\n",
    "\r\n",
    "        fig=plt.figure(figsize=(8, 8))\r\n",
    "        for i in range (cols * rows):\r\n",
    "            path = example_query[i]\r\n",
    "            image = io.imread(path)\r\n",
    "            fig.add_subplot(rows, cols, i+1)\r\n",
    "            plt.title(os.path.split(path)[1])\r\n",
    "            plt.axis(\"off\")\r\n",
    "            \r\n",
    "            plt.imshow(image)\r\n",
    "        fig.suptitle(f\"Response to query: {query_image_name}\")\r\n",
    "        plt.show()\r\n"
   ]
  },
  {
   "cell_type": "code",
   "execution_count": null,
   "metadata": {},
   "outputs": [],
   "source": [
    "CKPT_PATH = \"triplet_retrieval_uc_merced\\\\14fd0t9p\\\\checkpoints\\\\epoch=35-val_anmrr=0.19.ckpt\"\r\n",
    "model_name = 'resnet50'\r\n",
    "output_size = 50\r\n",
    "\r\n",
    "model, val, dm = load_model_dataloader(model_name, output_size, CKPT_PATH, UC_MERCED_DATA_DIRECTORY)"
   ]
  },
  {
   "cell_type": "code",
   "execution_count": null,
   "metadata": {},
   "outputs": [],
   "source": [
    "paths, embeddings, classes = calculate_embeddings(model, val)\r\n",
    "analyze_embeddings(paths, embeddings, classes, \"merced.png\")"
   ]
  },
  {
   "cell_type": "code",
   "execution_count": null,
   "metadata": {},
   "outputs": [],
   "source": [
    "analyze_anmrr(model, val, dm.label_name_mapping)"
   ]
  },
  {
   "cell_type": "code",
   "execution_count": null,
   "metadata": {},
   "outputs": [],
   "source": [
    "show_example_queries(paths, embeddings, classes, dm.label_name_mapping)"
   ]
  },
  {
   "cell_type": "code",
   "execution_count": null,
   "metadata": {},
   "outputs": [],
   "source": [
    "CKPT_PATH = \"triplet_retrieval_pattern_net\\\\115p0rcf\\\\checkpoints\\\\epoch=46-val_anmrr=0.11.ckpt\"\r\n",
    "model_name = 'resnet18'\r\n",
    "output_size = 50\r\n",
    "\r\n",
    "model, val, dm = load_model_dataloader(model_name, output_size, CKPT_PATH, PATTERN_NET_DATA_DIRECTORY)\r\n"
   ]
  },
  {
   "cell_type": "code",
   "execution_count": null,
   "metadata": {},
   "outputs": [],
   "source": [
    "paths, embeddings, classes = calculate_embeddings(model, val)\r\n",
    "analyze_embeddings(paths, embeddings, classes, \"pattern_net.png\")"
   ]
  },
  {
   "cell_type": "code",
   "execution_count": null,
   "metadata": {},
   "outputs": [],
   "source": [
    "analyze_anmrr(model, val, dm.label_name_mapping)"
   ]
  },
  {
   "cell_type": "code",
   "execution_count": null,
   "metadata": {},
   "outputs": [],
   "source": [
    "show_example_queries(paths, embeddings, classes, dm.label_name_mapping)"
   ]
  }
 ],
 "metadata": {
  "kernelspec": {
   "display_name": "Python 3",
   "language": "python",
   "name": "python3"
  },
  "language_info": {
   "codemirror_mode": {
    "name": "ipython",
    "version": 3
   },
   "file_extension": ".py",
   "mimetype": "text/x-python",
   "name": "python",
   "nbconvert_exporter": "python",
   "pygments_lexer": "ipython3",
   "version": "3.8.6-final"
  },
  "orig_nbformat": 2
 },
 "nbformat": 4,
 "nbformat_minor": 2
}