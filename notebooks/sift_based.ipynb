{
 "cells": [
  {
   "cell_type": "code",
   "execution_count": 9,
   "metadata": {},
   "outputs": [
    {
     "name": "stdout",
     "output_type": "stream",
     "text": [
      "The autoreload extension is already loaded. To reload it, use:\n",
      "  %reload_ext autoreload\n"
     ]
    }
   ],
   "source": [
    "%load_ext autoreload\n",
    "%autoreload 2"
   ]
  },
  {
   "cell_type": "code",
   "execution_count": 10,
   "metadata": {
    "pycharm": {
     "name": "#%%\n"
    }
   },
   "outputs": [],
   "source": [
    "from typing import Union\r\n",
    "\r\n",
    "import cv2\r\n",
    "import os\r\n",
    "import matplotlib.pyplot as plt\r\n",
    "import numpy as np\r\n",
    "from skimage import io, img_as_ubyte\r\n",
    "from sklearn.cluster import KMeans\r\n",
    "from sklearn.metrics.pairwise import euclidean_distances\r\n",
    "from sklearn.neighbors import NearestNeighbors\r\n",
    "from sklearn.model_selection import train_test_split\r\n",
    "from tqdm import trange, tqdm\r\n",
    "\r\n",
    "from imblearn.under_sampling import RandomUnderSampler\r\n",
    "\r\n",
    "from src.data.ucmerced_dataset import TripletDataModule\r\n",
    "from src.measures import anmrr\r\n",
    "from src.models.bovw import BoVWRetriever\r\n",
    "from src.settings import RANDOM_WALKS_DIRECTORY, UC_MERCED_DATA_DIRECTORY, PATTERN_NET_DATA_DIRECTORY"
   ]
  },
  {
   "cell_type": "code",
   "execution_count": 11,
   "metadata": {
    "pycharm": {
     "name": "#%%\n"
    }
   },
   "outputs": [
    {
     "name": "stderr",
     "output_type": "stream",
     "text": [
      "100%|██████████| 1680/1680 [00:36<00:00, 46.43it/s]\n",
      "100%|██████████| 420/420 [00:00<00:00, 491.23it/s]\n",
      "100%|██████████| 420/420 [00:07<00:00, 53.48it/s]\n",
      "Encoding as BOVW: 100%|██████████| 420/420 [00:00<00:00, 1253.73it/s]\n"
     ]
    },
    {
     "data": {
      "text/plain": "0.6423447860156721"
     },
     "execution_count": 11,
     "metadata": {},
     "output_type": "execute_result"
    }
   ],
   "source": [
    "image_size = 256\r\n",
    "dm = TripletDataModule(UC_MERCED_DATA_DIRECTORY, image_size, 0.8, 100, augment=False, normalize=False, permute=True)\r\n",
    "dm.setup(None)\r\n",
    "train_dataset = dm.train_dataset\r\n",
    "test_dataset = dm.val_dataset\r\n",
    "\r\n",
    "model = BoVWRetriever(100, 10000)\r\n",
    "model.fit(train_dataset)\r\n",
    "model.eval(test_dataset)\r\n",
    "# train_dataset = UcMercedDataset(TRAIN_DATA_DIRECTORY)\r\n",
    "# test_dataset = UcMercedDataset(TEST_DATA_DIRECTORY)"
   ]
  },
  {
   "cell_type": "code",
   "execution_count": null,
   "metadata": {
    "pycharm": {
     "name": "#%%\n"
    }
   },
   "outputs": [],
   "source": [
    "x_train = np.empty(shape=(len(train_dataset), 256, 256, 3))\r\n",
    "y_train = np.empty(shape=(len(train_dataset), ), dtype=np.int)\r\n",
    "\r\n",
    "x_test = np.empty(shape=(len(test_dataset), 256, 256, 3))\r\n",
    "y_test = np.empty(shape=(len(test_dataset), ), dtype=np.int)\r\n",
    "\r\n",
    "for idx in trange(train_dataset.__len__()):\r\n",
    "    item = train_dataset.__getitem__(idx)\r\n",
    "\r\n",
    "    x_train[idx] = item['a']\r\n",
    "    y_train[idx] = item['a_y']\r\n",
    "\r\n",
    "for idx in trange(test_dataset.__len__()):\r\n",
    "    item = test_dataset.__getitem__(idx)\r\n",
    "\r\n",
    "    x_test[idx] = item['a']\r\n",
    "    y_test[idx] = item['a_y']"
   ]
  },
  {
   "cell_type": "code",
   "execution_count": null,
   "metadata": {
    "pycharm": {
     "name": "#%%\n"
    }
   },
   "outputs": [],
   "source": [
    "sift = cv2.SIFT_create()"
   ]
  },
  {
   "cell_type": "code",
   "execution_count": null,
   "metadata": {
    "pycharm": {
     "name": "#%%\n"
    }
   },
   "outputs": [],
   "source": [
    "def get_descriptors(\n",
    "        images: np.ndarray,\n",
    "        labels: Union[np.ndarray, None] = None\n",
    "):\n",
    "    desc = []\n",
    "    matching_labels = []\n",
    "\n",
    "    for idx, img in tqdm(\n",
    "            enumerate(images),\n",
    "            desc=\"Calculating SIFT descriptors\",\n",
    "            total=images.shape[0]\n",
    "    ):\n",
    "        cv_img = img_as_ubyte(img)\n",
    "        cv_img = cv2.cvtColor(cv_img, cv2.COLOR_RGB2GRAY)\n",
    "        _, d = sift.detectAndCompute(cv_img, None)\n",
    "        if d is not None:\n",
    "            desc.append(d)\n",
    "\n",
    "            if labels is not None:\n",
    "                matching_labels.append(np.repeat(labels[idx], len(d)))\n",
    "\n",
    "    if labels is not None:\n",
    "        return desc, matching_labels\n",
    "    else:\n",
    "        return desc\n",
    "\n",
    "def encode_as_bovw(x: np.ndarray, trained_kmeans: KMeans) -> np.ndarray:\n",
    "    descriptors = get_descriptors(x)\n",
    "\n",
    "    res = np.empty(shape=(x.shape[0], trained_kmeans.n_clusters))\n",
    "\n",
    "    for idx, desc in tqdm(\n",
    "            enumerate(descriptors),\n",
    "            total=len(descriptors),\n",
    "            desc=\"Encoding as BOVW\"):\n",
    "        words = trained_kmeans.predict(desc)\n",
    "        bovw, _ = np.histogram(words, bins=range(trained_kmeans.n_clusters + 1))\n",
    "        res[idx] = bovw / desc.shape[0]\n",
    "\n",
    "    return res"
   ]
  },
  {
   "cell_type": "code",
   "execution_count": null,
   "metadata": {
    "pycharm": {
     "name": "#%%\n"
    }
   },
   "outputs": [],
   "source": [
    "x_train_descriptors, y_train_descriptors = get_descriptors(x_train, y_train)\n",
    "stacked_train_descriptors = np.vstack(x_train_descriptors)\n",
    "stacked_train_labels = np.hstack(y_train_descriptors)"
   ]
  },
  {
   "cell_type": "code",
   "execution_count": null,
   "metadata": {
    "collapsed": false,
    "pycharm": {
     "name": "#%%\n"
    }
   },
   "outputs": [],
   "source": [
    "np.unique(stacked_train_labels, return_counts=True)"
   ]
  },
  {
   "cell_type": "code",
   "execution_count": null,
   "metadata": {
    "collapsed": false,
    "pycharm": {
     "name": "#%%\n"
    }
   },
   "outputs": [],
   "source": [
    "under_sampler = RandomUnderSampler(random_state=42)\n",
    "\n",
    "resampled_train_descriptors, resampled_train_labels = under_sampler.fit_resample(stacked_train_descriptors, stacked_train_labels)"
   ]
  },
  {
   "cell_type": "code",
   "execution_count": null,
   "metadata": {
    "collapsed": false,
    "pycharm": {
     "name": "#%%\n"
    }
   },
   "outputs": [],
   "source": [
    "np.unique(resampled_train_labels, return_counts=True)"
   ]
  },
  {
   "cell_type": "code",
   "execution_count": null,
   "metadata": {
    "pycharm": {
     "name": "#%%\n"
    }
   },
   "outputs": [],
   "source": [
    "CLUSTERS = 100\n",
    "SAMPLES_COUNT = 100000"
   ]
  },
  {
   "cell_type": "code",
   "execution_count": null,
   "metadata": {
    "collapsed": false,
    "pycharm": {
     "name": "#%%\n"
    }
   },
   "outputs": [],
   "source": [
    "samples_ratio_for_kmeans = SAMPLES_COUNT / resampled_train_descriptors.shape[0]\n",
    "\n",
    "_, descriptors_for_kmeans, _, labels_for_kmeans = train_test_split(\n",
    "    resampled_train_descriptors,\n",
    "    resampled_train_labels,\n",
    "    test_size=samples_ratio_for_kmeans\n",
    ")"
   ]
  },
  {
   "cell_type": "code",
   "execution_count": null,
   "metadata": {
    "collapsed": false,
    "pycharm": {
     "name": "#%%\n"
    }
   },
   "outputs": [],
   "source": [
    "np.unique(labels_for_kmeans, return_counts=True)"
   ]
  },
  {
   "cell_type": "code",
   "execution_count": null,
   "metadata": {
    "pycharm": {
     "name": "#%%\n"
    }
   },
   "outputs": [],
   "source": [
    "%%time\n",
    "\n",
    "k_means = KMeans(n_clusters=CLUSTERS)\n",
    "\n",
    "k_means.fit(descriptors_for_kmeans)\n"
   ]
  },
  {
   "cell_type": "code",
   "execution_count": null,
   "metadata": {
    "pycharm": {
     "name": "#%%\n"
    }
   },
   "outputs": [],
   "source": [
    "x_test_encoded = encode_as_bovw(x_test, k_means)"
   ]
  },
  {
   "cell_type": "code",
   "execution_count": null,
   "metadata": {
    "pycharm": {
     "name": "#%%\n"
    }
   },
   "outputs": [],
   "source": [
    "anmrr(x_test_encoded, y_test[:, None], euclidean_distances)"
   ]
  },
  {
   "cell_type": "code",
   "execution_count": null,
   "metadata": {
    "pycharm": {
     "name": "#%%\n"
    }
   },
   "outputs": [],
   "source": [
    "n_neighbours = NearestNeighbors()\n",
    "n_neighbours.fit(x_test_encoded)"
   ]
  },
  {
   "cell_type": "code",
   "execution_count": null,
   "metadata": {
    "pycharm": {
     "name": "#%%\n"
    }
   },
   "outputs": [],
   "source": [
    "QUERY_IMAGE_IDX = 162"
   ]
  },
  {
   "cell_type": "code",
   "execution_count": null,
   "metadata": {
    "pycharm": {
     "name": "#%%\n"
    }
   },
   "outputs": [],
   "source": [
    "query_image = x_test_encoded[QUERY_IMAGE_IDX].reshape(1, -1)\r\n",
    "_, query_result_idx = n_neighbours.kneighbors(query_image, n_neighbors=11)"
   ]
  },
  {
   "cell_type": "code",
   "execution_count": null,
   "metadata": {
    "pycharm": {
     "name": "#%%\n"
    }
   },
   "outputs": [],
   "source": [
    "for idx in query_result_idx.squeeze():\n",
    "    io.imshow(x_test[idx])\n",
    "    plt.title(test_dataset.label_name_mapping[y_test[idx]])\n",
    "    plt.show()"
   ]
  },
  {
   "cell_type": "code",
   "execution_count": null,
   "metadata": {
    "collapsed": false,
    "pycharm": {
     "name": "#%%\n"
    }
   },
   "outputs": [],
   "source": [
    "import imageio\n",
    "from src.visualisation import random_walk"
   ]
  },
  {
   "cell_type": "code",
   "execution_count": null,
   "metadata": {
    "collapsed": false,
    "pycharm": {
     "name": "#%%\n"
    }
   },
   "outputs": [],
   "source": [
    "random_walk(\n",
    "    images=x_test,\n",
    "    images_encoded=x_test_encoded,\n",
    "    trained_n_neighbours=n_neighbours,\n",
    "    search_range=15,\n",
    "    starting_index=106,\n",
    "    filename_prefix=\"uc_merced_classic_\"\n",
    ")"
   ]
  }
 ],
 "metadata": {
  "kernelspec": {
   "display_name": "Python 3",
   "language": "python",
   "name": "python3"
  },
  "language_info": {
   "codemirror_mode": {
    "name": "ipython",
    "version": 3
   },
   "file_extension": ".py",
   "mimetype": "text/x-python",
   "name": "python",
   "nbconvert_exporter": "python",
   "pygments_lexer": "ipython3",
   "version": "3.8.6"
  }
 },
 "nbformat": 4,
 "nbformat_minor": 1
}