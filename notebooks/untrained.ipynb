{
 "cells": [
  {
   "cell_type": "code",
   "execution_count": 1,
   "metadata": {},
   "outputs": [],
   "source": [
    "%load_ext autoreload\r\n",
    "%autoreload 2"
   ]
  },
  {
   "cell_type": "code",
   "execution_count": 2,
   "metadata": {},
   "outputs": [],
   "source": [
    "from src.settings import UC_MERCED_DATA_DIRECTORY, PATTERN_NET_DATA_DIRECTORY\r\n",
    "from src.measures import anmrr\r\n",
    "from sklearn.metrics.pairwise import euclidean_distances\r\n",
    "from src.data.ucmerced_dataset import TripletDataModule\r\n",
    "from src.utils import calculate_embeddings_torch\r\n",
    "import torch\r\n",
    "models = ['resnet18', 'resnet50', 'resnet101']\r\n",
    "datasets = [\r\n",
    "    # (\"uc_merced\", \"UC Merced\", UC_MERCED_DATA_DIRECTORY),\r\n",
    "    (\"pattern_net\", \"PatternNet\", PATTERN_NET_DATA_DIRECTORY),\r\n",
    "]"
   ]
  },
  {
   "cell_type": "code",
   "execution_count": 3,
   "metadata": {},
   "outputs": [
    {
     "name": "stderr",
     "output_type": "stream",
     "text": [
      "Using cache found in C:\\Users\\Szymon/.cache\\torch\\hub\\pytorch_vision_master\n",
      "61it [00:08,  7.08it/s]\n",
      "Using cache found in C:\\Users\\Szymon/.cache\\torch\\hub\\pytorch_vision_master\n",
      "61it [00:18,  3.31it/s]\n",
      "Using cache found in C:\\Users\\Szymon/.cache\\torch\\hub\\pytorch_vision_master\n",
      "61it [00:29,  2.10it/s]\n"
     ]
    },
    {
     "name": "stdout",
     "output_type": "stream",
     "text": [
      "PatternNet resnet18 0.5177311447265464\n",
      "PatternNet resnet50 0.4871043397629931\n",
      "PatternNet resnet101 0.4809735510100074\n"
     ]
    }
   ],
   "source": [
    "for dataset_path_name, dataset_name, dataset_path in datasets:\r\n",
    "    for model in models:\r\n",
    "        dm = TripletDataModule(dataset_path, 224, 0.8, 100)\r\n",
    "        dm.setup(None)\r\n",
    "        triplet_retriever = torch.hub.load('pytorch/vision', model, pretrained=True)\r\n",
    "        triplet_retriever = triplet_retriever.cuda()\r\n",
    "        paths, embeddings, classes = calculate_embeddings_torch(triplet_retriever, dm.val_dataloader())\r\n",
    "        anmrr_value, anmrr_per_class, nmrr = anmrr(embeddings, classes, euclidean_distances, class_mean=True, all_queries=True)\r\n",
    "        class_names = dm.class_names\r\n",
    "        print(dataset_name, model, anmrr_value)"
   ]
  },
  {
   "cell_type": "code",
   "execution_count": 5,
   "metadata": {},
   "outputs": [
    {
     "name": "stderr",
     "output_type": "stream",
     "text": [
      "Using cache found in C:\\Users\\Szymon/.cache\\torch\\hub\\pytorch_vision_master\n"
     ]
    }
   ],
   "source": [
    "import torch\r\n",
    "retriever = torch.hub.load('pytorch/vision', 'resnet18', pretrained=True)"
   ]
  }
 ],
 "metadata": {
  "kernelspec": {
   "display_name": "Python 3",
   "language": "python",
   "name": "python3"
  },
  "language_info": {
   "codemirror_mode": {
    "name": "ipython",
    "version": 3
   },
   "file_extension": ".py",
   "mimetype": "text/x-python",
   "name": "python",
   "nbconvert_exporter": "python",
   "pygments_lexer": "ipython3",
   "version": "3.8.6"
  },
  "orig_nbformat": 2
 },
 "nbformat": 4,
 "nbformat_minor": 2
}